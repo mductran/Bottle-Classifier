{
 "cells": [
  {
   "cell_type": "markdown",
   "metadata": {
    "colab_type": "text",
    "id": "lKcstBFzzn5S"
   },
   "source": [
    "# Build a Traffic Sign Recognition Classifier"
   ]
  },
  {
   "cell_type": "code",
   "execution_count": 1,
   "metadata": {
    "cellView": "both",
    "colab": {},
    "colab_type": "code",
    "id": "Cjp_nIoH1kn-"
   },
   "outputs": [
    {
     "name": "stderr",
     "output_type": "stream",
     "text": [
      "Using TensorFlow backend.\n"
     ]
    }
   ],
   "source": [
    "import numpy as np\n",
    "import pandas as pd\n",
    "import matplotlib.pyplot as plt\n",
    "import pickle\n",
    "import tensorflow as tf\n",
    "import os\n",
    "import glob\n",
    "from tensorflow.contrib.layers import flatten\n",
    "from sklearn.utils import shuffle\n",
    "import cv2\n",
    "from keras.preprocessing.image import ImageDataGenerator\n",
    "from random import randint\n",
    "from sklearn.model_selection import KFold"
   ]
  },
  {
   "cell_type": "code",
   "execution_count": 2,
   "metadata": {
    "colab": {},
    "colab_type": "code",
    "id": "ctUATfvQsaNo",
    "scrolled": true
   },
   "outputs": [],
   "source": [
    "def preprocess(X):\n",
    "    rgb2gray = [0.299, 0.587, 0.114]\n",
    "    # Convert images to grayscale\n",
    "    X_gray = np.dot(X[...,:3], rgb2gray)\n",
    "\n",
    "    # Normalize images\n",
    "    X_gray = (X_gray/255-0.5)*2\n",
    "    X_gray = X_gray.reshape(*X_gray.shape, 1)\n",
    "    return X_gray"
   ]
  },
  {
   "cell_type": "code",
   "execution_count": 3,
   "metadata": {},
   "outputs": [],
   "source": [
    "train_dir = \"Bottle-Classifier/training_data/\"\n",
    "data = pd.read_csv(train_dir + \"label.csv\")\n",
    "image_size = (96,96)\n",
    "\n",
    "X_data = []\n",
    "Y_data = []\n",
    "for i in range(len(data)):\n",
    "    filename = data.iloc[i,0]\n",
    "    label = data.iloc[i,2]\n",
    "    img = plt.imread(train_dir + filename)\n",
    "    img = cv2.resize(img, image_size, interpolation=cv2.INTER_CUBIC)\n",
    "    X_data.append(img)\n",
    "    Y_data.append(label)\n",
    "\n",
    "X_data = np.array(X_data)\n",
    "Y_data = np.array(Y_data)\n",
    "\n",
    "X_data, Y_data = shuffle(X_data, Y_data)\n",
    "split = int(round(len(data)*0.8))\n",
    "train = np.arange(split)\n",
    "valid = np.arange(split, len(data))\n",
    "X_train, Y_train = X_data[train], Y_data[train]\n",
    "X_valid, Y_valid = X_data[valid], Y_data[valid]\n",
    "\n",
    "# filename = train_dir + \"label.p\"\n",
    "# with open(filename, mode = 'rb') as f:\n",
    "#     train = pickle.load(f)\n",
    "# X_data, Y_data = train['Images'], train['labels']    \n",
    "    \n",
    "# X_data = np.array(X_data)\n",
    "# Y_data = np.array(Y_data)\n",
    "# for i in range(len(Y_data)):\n",
    "#     if Y_data[i] == 'ovaltine':\n",
    "#         Y_data[i] = 0\n",
    "#     elif Y_data[i] == 'ginkgo':\n",
    "#         Y_data[i] = 1\n",
    "#     elif Y_data[i] == 'babydream':\n",
    "#         Y_data[i] = 2\n",
    "#     elif Y_data[i] == 'lavie':\n",
    "#         Y_data[i] = 3\n",
    "\n",
    "# print(Y_data)\n",
    "n_classes = len(np.unique(Y_data))\n",
    "X_train = preprocess(X_train)\n",
    "X_valid = preprocess(X_valid)"
   ]
  },
  {
   "cell_type": "code",
   "execution_count": 4,
   "metadata": {
    "colab": {},
    "colab_type": "code",
    "id": "hXynUVflxg1M",
    "scrolled": true
   },
   "outputs": [
    {
     "name": "stdout",
     "output_type": "stream",
     "text": [
      "(58, 96, 96, 1)\n",
      "(58,)\n",
      "(15, 96, 96, 1)\n",
      "(15,)\n"
     ]
    }
   ],
   "source": [
    "print(X_train.shape)\n",
    "print(Y_train.shape)\n",
    "print(X_valid.shape)\n",
    "print(Y_valid.shape)"
   ]
  },
  {
   "cell_type": "code",
   "execution_count": 5,
   "metadata": {},
   "outputs": [
    {
     "data": {
      "image/png": "[encoded data removed]",
      "text/plain": [
       "<Figure size 1440x360 with 1 Axes>"
      ]
     },
     "metadata": {
      "needs_background": "light"
     },
     "output_type": "display_data"
    }
   ],
   "source": [
    "fig = plt.figure(figsize=(20,5))\n",
    "classes = np.arange(n_classes)\n",
    "count = np.bincount(Y_train)\n",
    "plt.bar(classes,count)\n",
    "plt.show()"
   ]
  },
  {
   "cell_type": "code",
   "execution_count": 6,
   "metadata": {
    "cellView": "both",
    "colab": {},
    "colab_type": "code",
    "id": "f3PLlusDzn9y"
   },
   "outputs": [],
   "source": [
    "# plt.figure(figsize=(30,15))\n",
    "# i = 0\n",
    "# for img in X_data:\n",
    "#     i+=1\n",
    "#     plt.subplot(1,len(X_data),i)\n",
    "#     plt.imshow(img)        \n",
    "                    \n",
    "# plt.show()\n",
    "\n",
    "# print(Y_data)"
   ]
  },
  {
   "cell_type": "code",
   "execution_count": 7,
   "metadata": {},
   "outputs": [],
   "source": [
    "def dataAug(X_train, y_train):\n",
    "    datagen = ImageDataGenerator(rotation_range=10,zoom_range=0.10)\n",
    "    for x_batch, y_batch in datagen.flow(X_train, y_train, batch_size=X_train.shape[0], shuffle=False):\n",
    "        X_train_aug = x_batch.astype('uint8')\n",
    "        y_train_aug = y_batch\n",
    "        break\n",
    "\n",
    "    X_train = np.concatenate([X_train, X_train_aug])\n",
    "    y_train = np.concatenate([y_train,y_train_aug])\n",
    "    return X_train,y_train"
   ]
  },
  {
   "cell_type": "code",
   "execution_count": 16,
   "metadata": {
    "colab": {},
    "colab_type": "code",
    "id": "-yG1OgJdw9Po"
   },
   "outputs": [],
   "source": [
    "#     LeNet: Input 96x96x1, 92x92x6, 46x46x6, 40x40x16, 20x20x16, 16x16x16,, 8x8x16, 1024, 512, 128, 32, n_classes\n",
    "def LeNet(x):\n",
    "    mu = 0\n",
    "    sigma = 0.1\n",
    "    weights = {\n",
    "        'conv1_W' : tf.Variable(tf.truncated_normal(shape=(5,5,1,6), mean=mu, stddev=sigma), name='conv1_W'),\n",
    "        'conv2_W' : tf.Variable(tf.truncated_normal(shape=(7,7,6,16), mean=mu, stddev=sigma), name='conv2_W'),\n",
    "        'conv3_W' : tf.Variable(tf.truncated_normal(shape=(5,5,16,16), mean=mu, stddev=sigma), name='conv3_W'),\n",
    "        'fc1_W' : tf.Variable(tf.truncated_normal(shape=(1024,512), mean=mu, stddev=sigma), name='fc1_W'),\n",
    "        'fc2_W' : tf.Variable(tf.truncated_normal(shape=(512,128), mean=mu, stddev=sigma), name='fc2_W'),\n",
    "        'fc3_W' : tf.Variable(tf.truncated_normal(shape=(128,32), mean=mu, stddev=sigma), name='fc3_W'),\n",
    "        'fc4_W' : tf.Variable(tf.truncated_normal(shape=(32,n_classes), mean=mu, stddev=sigma), name='fc4_W')\n",
    "    }\n",
    "\n",
    "    w1 = tf.Variable(tf.random_normal(shape=[2]), name='w1')\n",
    "\n",
    "    biases = {\n",
    "        'conv1_b' : tf.Variable(tf.truncated_normal([6], mean=mu, stddev=sigma), 'conv1_b'),\n",
    "        'conv2_b' : tf.Variable(tf.truncated_normal([16], mean=mu, stddev=sigma), 'conv2_b'),\n",
    "        'conv3_b' : tf.Variable(tf.truncated_normal([16], mean=mu, stddev=sigma), 'conv3_b'),\n",
    "        'fc1_b' : tf.Variable(tf.truncated_normal([512], mean=mu, stddev=sigma), 'fc1_b'),\n",
    "        'fc2_b' : tf.Variable(tf.truncated_normal([128], mean=mu,stddev=sigma), 'fc2_b'),\n",
    "        'fc3_b' : tf.Variable(tf.truncated_normal([32], mean=mu, stddev=sigma), 'fc3_b'),\n",
    "        'fc4_b' : tf.Variable(tf.truncated_normal([n_classes], mean=mu,stddev=sigma), 'fc4_b')\n",
    "    }\n",
    "    \n",
    "    conv1 = tf.nn.conv2d(x, weights['conv1_W'], strides=[1,1,1,1], padding='VALID') + biases['conv1_b']\n",
    "    conv1 = tf.nn.relu(conv1)\n",
    "    conv1 = tf.nn.max_pool(conv1, ksize=[1,2,2,1], strides=[1,2,2,1], padding='VALID')\n",
    "    \n",
    "    conv2 = tf.nn.conv2d(conv1, weights['conv2_W'], strides=[1,1,1,1], padding='VALID') + biases['conv2_b']\n",
    "    conv2 = tf.nn.relu(conv2)\n",
    "    conv2 = tf.nn.max_pool(conv2, ksize=[1,2,2,1], strides=[1,2,2,1], padding='VALID')\n",
    "    \n",
    "    conv3 = tf.nn.conv2d(conv2, weights['conv3_W'], strides=[1,1,1,1], padding='VALID') + biases['conv3_b']\n",
    "    conv3 = tf.nn.relu(conv3)\n",
    "    conv3 = tf.nn.max_pool(conv3, ksize=[1,2,2,1], strides=[1,2,2,1], padding='VALID')\n",
    "                                \n",
    "                                \n",
    "    fc0 = flatten(conv3)\n",
    "    \n",
    "    fc1 = tf.matmul(fc0, weights['fc1_W']) + biases['fc1_b']\n",
    "    fc1 = tf.nn.relu(fc1)\n",
    "    \n",
    "    fc2 = tf.matmul(fc1, weights['fc2_W']) + biases['fc2_b']\n",
    "    fc2 = tf.nn.relu(fc2)\n",
    "                                \n",
    "    fc3 = tf.matmul(fc2, weights['fc3_W']) + biases['fc3_b']\n",
    "    fc3 = tf.nn.relu(fc3)\n",
    "    \n",
    "    logits = tf.matmul(fc3, weights['fc4_W']) + biases['fc4_b']\n",
    "    \n",
    "    return logits"
   ]
  },
  {
   "cell_type": "code",
   "execution_count": 17,
   "metadata": {
    "colab": {},
    "colab_type": "code",
    "id": "drQnK7BVxK9n",
    "scrolled": true
   },
   "outputs": [],
   "source": [
    "x = tf.placeholder(tf.float32, (None, 96, 96, 1), name='x')\n",
    "y = tf.placeholder(tf.int32, (None), name='y')\n",
    "one_hot_y = tf.one_hot(y, n_classes, name='one_hot_y')\n",
    "\n",
    "learning_rate = 0.001\n",
    "EPOCHS = 10\n",
    "BATCH_SIZE = 256\n",
    "\n",
    "logits = tf.identity(LeNet(x), name='logits')\n",
    "cross_entropy = tf.nn.softmax_cross_entropy_with_logits(logits=logits, labels=one_hot_y, name='cross_entropy')\n",
    "loss = tf.reduce_mean(cross_entropy, name='loss')\n",
    "optimizer = tf.train.AdamOptimizer(learning_rate=learning_rate, name='optimizer').minimize(loss)\n",
    "\n",
    "correct_prediction = tf.equal(tf.argmax(logits, 1), tf.argmax(one_hot_y, 1), name='correct_prediction')\n",
    "accuracy_operation = tf.reduce_mean(tf.cast(correct_prediction, tf.float32), name='accuracy_operation')\n",
    "saver = tf.train.Saver()\n",
    "\n",
    "def evaluate(X_data, y_data):\n",
    "    num_examples = len(X_data)\n",
    "    total_accuracy = 0\n",
    "    sess = tf.get_default_session()\n",
    "    for offset in range(0, num_examples, BATCH_SIZE):\n",
    "        batch_x, batch_y = X_data[offset:offset+BATCH_SIZE], y_data[offset:offset+BATCH_SIZE]\n",
    "        accuracy = sess.run(accuracy_operation, feed_dict={x: batch_x, y: batch_y})\n",
    "        total_accuracy += (accuracy*len(batch_x))\n",
    "    return total_accuracy/num_examples,logits"
   ]
  },
  {
   "cell_type": "code",
   "execution_count": 18,
   "metadata": {
    "colab": {},
    "colab_type": "code",
    "id": "NXkULf2jxLTx",
    "scrolled": true
   },
   "outputs": [
    {
     "name": "stdout",
     "output_type": "stream",
     "text": [
      "EPOCH 1 ...\n",
      "Validation Accuracy = 0.200\n",
      "EPOCH 2 ...\n",
      "Validation Accuracy = 0.333\n",
      "EPOCH 3 ...\n",
      "Validation Accuracy = 0.133\n",
      "EPOCH 4 ...\n",
      "Validation Accuracy = 0.133\n",
      "EPOCH 5 ...\n",
      "Validation Accuracy = 0.333\n",
      "EPOCH 6 ...\n",
      "Validation Accuracy = 0.333\n",
      "EPOCH 7 ...\n",
      "Validation Accuracy = 0.400\n",
      "EPOCH 8 ...\n",
      "Validation Accuracy = 0.133\n",
      "EPOCH 9 ...\n",
      "Validation Accuracy = 0.133\n",
      "EPOCH 10 ...\n",
      "Validation Accuracy = 0.067\n"
     ]
    }
   ],
   "source": [
    "with tf.Session() as sess:\n",
    "    sess.run(tf.global_variables_initializer())\n",
    "#     kf = KFold(n_splits=5)\n",
    "#     for train_index, test_index in kf.split(X_gray):\n",
    "#         print(\"TRAIN:\", train_index, \"TEST:\", test_index)\n",
    "#         X_train, X_valid = X_gray[train_index], X_gray[test_index]\n",
    "#         y_train, y_valid = Y_data[train_index], Y_data[test_index]\n",
    "        \n",
    "#     X_train, Y_train = dataAug(X_train, Y_train)\n",
    "\n",
    "    num_examples = len(X_train)\n",
    "    for i in range(EPOCHS):\n",
    "        X_train, y_train = shuffle(X_train, Y_train)\n",
    "        for offset in range(0, num_examples, BATCH_SIZE):\n",
    "            end = offset + BATCH_SIZE\n",
    "            batch_x, batch_y = X_train[offset:end], y_train[offset:end]\n",
    "            sess.run(optimizer, feed_dict={x: batch_x, y: batch_y})\n",
    "\n",
    "        validation_accuracy,_ = evaluate(X_valid, Y_valid)\n",
    "        print(\"EPOCH {} ...\".format(i+1))\n",
    "        print(\"Validation Accuracy = {:.3f}\".format(validation_accuracy))\n",
    "        \n",
    "    saver.save(sess, './Bottle')"
   ]
  },
  {
   "cell_type": "code",
   "execution_count": 11,
   "metadata": {
    "cellView": "both",
    "colab": {},
    "colab_type": "code",
    "id": "rZsbWUn_xLWy"
   },
   "outputs": [],
   "source": [
    "# with tf.Session() as sess:\n",
    "#     saver.restore(sess, tf.train.latest_checkpoint('.'))\n",
    "    \n",
    "#     test_accuracy,logits = evaluate(X_test_gray, y_test)\n",
    "#     print(\"Test Accuracy = {:.3f}\".format(test_accuracy))"
   ]
  },
  {
   "cell_type": "code",
   "execution_count": 12,
   "metadata": {
    "cellView": "both",
    "colab": {},
    "colab_type": "code",
    "id": "Ae9mCVTexLay"
   },
   "outputs": [],
   "source": [
    "def classifier(dataset,n):\n",
    "    with tf.Session() as sess:\n",
    "        saver.restore(sess, tf.train.latest_checkpoint('.'))\n",
    "        output = sess.run(tf.nn.top_k(logits, k=2), feed_dict={x: dataset})\n",
    "        bottleId = []\n",
    "        for i in range(n-1):\n",
    "            bottleId.append(output[1][i][0])\n",
    "            print(\"Output: \",bottleId[0])\n",
    "\n",
    "\n",
    "def randomImages():\n",
    "    dataset = []\n",
    "    rgb2gray = [0.299, 0.587, 0.114]\n",
    "    %matplotlib inline\n",
    "    fig = plt.figure(figsize=(20,5))\n",
    "    n = 2\n",
    "    for i in range(1,n):\n",
    "        img = X_data[randint(0,len(X_data)),:,:,:]\n",
    "        fig.add_subplot(1,n-1,i)\n",
    "        plt.imshow(img)\n",
    "        dataset.append(img)\n",
    "    plt.show()\n",
    "    dataset = np.array(dataset,dtype=np.float32)\n",
    "    dataset = np.dot(dataset[...,:3], rgb2gray)\n",
    "    dataset = (dataset/255-0.5)*2\n",
    "    dataset = dataset.reshape(*dataset.shape, 1)\n",
    "    return dataset,n"
   ]
  },
  {
   "cell_type": "code",
   "execution_count": 13,
   "metadata": {
    "colab": {
     "base_uri": "https://localhost:8080/",
     "height": 303
    },
    "colab_type": "code",
    "executionInfo": {
     "elapsed": 1215,
     "status": "ok",
     "timestamp": 1538971044419,
     "user": {
      "displayName": "Tuan Nguyen",
      "photoUrl": "",
      "userId": "07471081362065166277"
     },
     "user_tz": -420
    },
    "id": "y1nFOMKQzn_m",
    "outputId": "6f492bea-24e7-4d23-b75f-a05eccd721e5"
   },
   "outputs": [
    {
     "data": {
      "image/png": "[encoded data removed]",
      "text/plain": [
       "<Figure size 1440x360 with 1 Axes>"
      ]
     },
     "metadata": {
      "needs_background": "light"
     },
     "output_type": "display_data"
    }
   ],
   "source": [
    "dataset,n = randomImages()"
   ]
  },
  {
   "cell_type": "code",
   "execution_count": 14,
   "metadata": {
    "colab": {
     "base_uri": "https://localhost:8080/",
     "height": 282
    },
    "colab_type": "code",
    "executionInfo": {
     "elapsed": 1331,
     "status": "ok",
     "timestamp": 1538971047072,
     "user": {
      "displayName": "Tuan Nguyen",
      "photoUrl": "",
      "userId": "07471081362065166277"
     },
     "user_tz": -420
    },
    "id": "stZWfB7gzoAV",
    "outputId": "ebe5f763-9fec-48a9-8b43-befe51c5d6e7"
   },
   "outputs": [
    {
     "name": "stdout",
     "output_type": "stream",
     "text": [
      "INFO:tensorflow:Restoring parameters from .\\Bottle\n",
      "Output:  0\n"
     ]
    }
   ],
   "source": [
    "classifier(dataset,n)"
   ]
  },
  {
   "cell_type": "code",
   "execution_count": 19,
   "metadata": {
    "scrolled": true
   },
   "outputs": [],
   "source": [
    "# dataset = []\n",
    "# fig = plt.figure(figsize=(20,5))\n",
    "# def \n",
    "#     n = 2\n",
    "#     for i in range(1,n):\n",
    "#         img = X_data[randint(0,len(X_data)),:,:,:]\n",
    "#         fig.add_subplot(1,n-1,i)\n",
    "#         plt.imshow(img)\n",
    "#         plt.grid(b=None)\n",
    "#         plt.tick_params(labelbottom=False,labelleft=False)\n",
    "#         dataset.append(img)\n",
    "#     plt.show()\n",
    "#     dataset = np.array(dataset,dtype=np.float32)\n",
    "#     dataset = np.dot(dataset[...,:3], rgb2gray)\n",
    "#     dataset = (dataset/255-0.5)*2\n",
    "#     dataset = dataset.reshape(*dataset.shape, 1)\n",
    "#     return dataset,n"
   ]
  },
  {
   "cell_type": "code",
   "execution_count": null,
   "metadata": {
    "scrolled": true
   },
   "outputs": [],
   "source": []
  },
  {
   "cell_type": "code",
   "execution_count": null,
   "metadata": {},
   "outputs": [],
   "source": []
  },
  {
   "cell_type": "code",
   "execution_count": null,
   "metadata": {},
   "outputs": [],
   "source": []
  }
 ],
 "metadata": {
  "accelerator": "GPU",
  "colab": {
   "collapsed_sections": [],
   "name": "Traffic_Sign_Classifier.ipynb",
   "provenance": [],
   "version": "0.3.2"
  },
  "kernelspec": {
   "display_name": "Python 3",
   "language": "python",
   "name": "python3"
  },
  "language_info": {
   "codemirror_mode": {
    "name": "ipython",
    "version": 3
   },
   "file_extension": ".py",
   "mimetype": "text/x-python",
   "name": "python",
   "nbconvert_exporter": "python",
   "pygments_lexer": "ipython3",
   "version": "3.6.5"
  }
 },
 "nbformat": 4,
 "nbformat_minor": 1
}
